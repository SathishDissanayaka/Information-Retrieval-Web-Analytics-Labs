{
  "nbformat": 4,
  "nbformat_minor": 0,
  "metadata": {
    "colab": {
      "provenance": [],
      "authorship_tag": "ABX9TyMOUEOVvv7rQ43AD6/S62Oo",
      "include_colab_link": true
    },
    "kernelspec": {
      "name": "python3",
      "display_name": "Python 3"
    },
    "language_info": {
      "name": "python"
    }
  },
  "cells": [
    {
      "cell_type": "markdown",
      "metadata": {
        "id": "view-in-github",
        "colab_type": "text"
      },
      "source": [
        "<a href=\"https://colab.research.google.com/github/SathishDissanayaka/Information-Retrieval-Web-Analytics-Labs/blob/main/IRWA_Lab05.ipynb\" target=\"_parent\"><img src=\"https://colab.research.google.com/assets/colab-badge.svg\" alt=\"Open In Colab\"/></a>"
      ]
    },
    {
      "cell_type": "code",
      "execution_count": 6,
      "metadata": {
        "colab": {
          "base_uri": "https://localhost:8080/"
        },
        "id": "zU4TT4gSefXz",
        "outputId": "bd7760e2-bbbd-4983-c47c-a6a052688bcb"
      },
      "outputs": [
        {
          "output_type": "stream",
          "name": "stdout",
          "text": [
            "[[0 0 0 2 1 1 0 1 1 1]\n",
            " [1 1 1 0 0 0 1 2 0 0]]\n"
          ]
        }
      ],
      "source": [
        "#Question 01(TF-IDF)\n",
        "#Count Vectorizer (TF matrix)\n",
        "from sklearn.feature_extraction.text import CountVectorizer\n",
        "#CountVectorizer is used to convert a collection of text documents into a matrix of token (word) counts.\n",
        "document1 = 'the man went out for a walk for'\n",
        "document2 = 'the children sat around the fire'\n",
        "vectorizer = CountVectorizer()\n",
        "#This object will: Tokenize the text (split into words),Convert all text to lowercase,Remove punctuation,Build a vocabulary of unique words across all documents\n",
        "tf_matrix = vectorizer.fit_transform([document1, document2])\n",
        "#fit->identifies all unique words in document1 and document2 & transform → Converts each document into a vector of word counts\n",
        "\"\"\"tf_matrix is a sparse matrix where:\n",
        "Rows = documents (document1 = row 0, document2 = row 1)\n",
        "Columns = unique words in vocabulary\n",
        "Values = frequency of each word in that document\"\"\"\n",
        "tf_array = tf_matrix.toarray()\n",
        "#Converts the sparse matrix to a regular NumPy array for easier viewing.\n",
        "print(tf_array)"
      ]
    },
    {
      "cell_type": "code",
      "source": [
        "import numpy as np"
      ],
      "metadata": {
        "id": "AkX-YAEHwnFc"
      },
      "execution_count": 2,
      "outputs": []
    },
    {
      "cell_type": "code",
      "source": [
        "#TF-IDF Vectorizer\n",
        "from sklearn.feature_extraction.text import TfidfVectorizer\n",
        "document1 = 'the man went out for a walk'\n",
        "document2 = 'the children sat around the fire'\n",
        "vectorizer = TfidfVectorizer()\n",
        "tfidf_matrix = vectorizer.fit_transform([document1, document2])\n",
        "tfidf_array = tfidf_matrix.toarray()\n",
        "print(np.round(tfidf_array,2))\n",
        "#Prints the TF-IDF matrix with values rounded to 2 decimal places."
      ],
      "metadata": {
        "colab": {
          "base_uri": "https://localhost:8080/"
        },
        "id": "IIFpWywVwp47",
        "outputId": "79258813-4975-4227-8bdf-6f905982244c"
      },
      "execution_count": 7,
      "outputs": [
        {
          "output_type": "stream",
          "name": "stdout",
          "text": [
            "[[0.   0.   0.   0.43 0.43 0.43 0.   0.3  0.43 0.43]\n",
            " [0.41 0.41 0.41 0.   0.   0.   0.41 0.58 0.   0.  ]]\n"
          ]
        }
      ]
    },
    {
      "cell_type": "code",
      "source": [
        "#Q2(find Cosine Similarity)\n",
        "#Cosine similarity is a measure of how similar two vectors are, based on the angle between them.\n",
        "from sklearn.feature_extraction.text import TfidfVectorizer\n",
        "from sklearn.metrics.pairwise import cosine_similarity\n",
        "document1 = 'the man went out for a walk'\n",
        "document2 = 'the children sat around the fire'\n",
        "vectorizer = TfidfVectorizer()\n",
        "tfidf_matrix = vectorizer.fit_transform([document1, document2])\n",
        "cosine_sim = cosine_similarity(tfidf_matrix[0:1], tfidf_matrix[1:2])\n",
        "#This value tells you how similar the two documents are (0 = very different, 1 = identical).\n",
        "print(cosine_sim)"
      ],
      "metadata": {
        "colab": {
          "base_uri": "https://localhost:8080/"
        },
        "id": "wgcS--kZ0oGA",
        "outputId": "48346275-c5a3-41a2-f62e-b02dffffa2b3"
      },
      "execution_count": 9,
      "outputs": [
        {
          "output_type": "stream",
          "name": "stdout",
          "text": [
            "[[0.17578608]]\n"
          ]
        }
      ]
    }
  ]
}