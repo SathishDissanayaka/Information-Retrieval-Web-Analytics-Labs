{
  "nbformat": 4,
  "nbformat_minor": 0,
  "metadata": {
    "colab": {
      "provenance": [],
      "authorship_tag": "ABX9TyMQWnq+kCyw+iG4l9TBx9jY",
      "include_colab_link": true
    },
    "kernelspec": {
      "name": "python3",
      "display_name": "Python 3"
    },
    "language_info": {
      "name": "python"
    }
  },
  "cells": [
    {
      "cell_type": "markdown",
      "metadata": {
        "id": "view-in-github",
        "colab_type": "text"
      },
      "source": [
        "<a href=\"https://colab.research.google.com/github/SathishDissanayaka/Information-Retrieval-Web-Analytics-Labs/blob/main/IRWA_Lab_2.ipynb\" target=\"_parent\"><img src=\"https://colab.research.google.com/assets/colab-badge.svg\" alt=\"Open In Colab\"/></a>"
      ]
    },
    {
      "cell_type": "code",
      "execution_count": 6,
      "metadata": {
        "colab": {
          "base_uri": "https://localhost:8080/"
        },
        "id": "b4DbRWvX1gFR",
        "outputId": "a20b277b-f2f1-47c3-f001-1a1b7670e665"
      },
      "outputs": [
        {
          "output_type": "stream",
          "name": "stderr",
          "text": [
            "[nltk_data] Downloading package wordnet to /root/nltk_data...\n"
          ]
        },
        {
          "output_type": "stream",
          "name": "stdout",
          "text": [
            "['natural', 'language', 'process', 'nlp', 'transform', 'way', 'humans', 'interact']\n"
          ]
        }
      ],
      "source": [
        "#Lowercasing\n",
        "text = \"Natural Language Processing Is Fun!\"\n",
        "text = text.lower()\n",
        "print(text)\n",
        "\n",
        "#Removing Punctuation\n",
        "import string\n",
        "text = \"Hello, world! NLP is exciting.\"\n",
        "text = text.translate(str.maketrans('', '', string.punctuation)) #str.maketrans(from_str, to_str, delete_str)\n",
        "print(text)\n",
        "\n",
        "#Tokenization\n",
        "import nltk\n",
        "nltk.download('punkt') #pre-trained tokenizer model for word & sentence splitting.\n",
        "nltk.download('punkt_tab') #extra resource now required in newer NLTK versions.\n",
        "from nltk.tokenize import word_tokenize\n",
        "text = \"Tokenize this sentence.\"\n",
        "tokens = word_tokenize(text)\n",
        "print(tokens)\n",
        "\n",
        "#Stopword Removal\n",
        "from nltk.corpus import stopwords\n",
        "# Download the stopwords (only needs to be done once)\n",
        "nltk.download('stopwords')\n",
        "# Define stopwords list\n",
        "stop_words = set(stopwords.words('english'))\n",
        "# Example token list\n",
        "tokens = ['Tokenize', 'this', 'sentence', '.']\n",
        "# Filter out stopwords\n",
        "filtered = [word for word in tokens if word.lower() not in stop_words]\n",
        "print(filtered)\n",
        "\n",
        "# Stemming (reducing words to their root form)\n",
        "from nltk.stem import PorterStemmer\n",
        "# Create a stemmer object\n",
        "stemmer = PorterStemmer()\n",
        "# Example words\n",
        "words = [\"playing\", \"played\", \"player\"]\n",
        "# Apply stemming to each word\n",
        "stemmed = [stemmer.stem(word) for word in words]\n",
        "print(stemmed)\n",
        "\n",
        "\n",
        "#Lemmatization(returns the dictionary root word (lemma))\n",
        "from nltk.stem import WordNetLemmatizer\n",
        "# Download wordnet data (needed for lemmatization)\n",
        "nltk.download('wordnet')\n",
        "lemmatizer = WordNetLemmatizer()\n",
        "words = [\"playing\", \"better\", \"running\"]\n",
        "# Lemmatize words with POS tag as verb ('v')\n",
        "lemmatized = [lemmatizer.lemmatize(word, pos='v') for word in words]\n",
        "print(lemmatized)\n",
        "\n",
        "#quiz 1\n",
        "import nltk\n",
        "import string\n",
        "# Download the 'punkt' tokenizer models\n",
        "nltk.download('punkt')\n",
        "nltk.download('punkt_tab')\n",
        "from nltk.tokenize import word_tokenize\n",
        "text = \"Natural Language Processing (NLP) is transforming the way humans interact.\"\n",
        "# Convert text to lowercase\n",
        "text = text.lower()\n",
        "# Remove punctuation\n",
        "text = text.translate(str.maketrans('', '', string.punctuation))\n",
        "# Tokenize text into words\n",
        "tokens = word_tokenize(text)\n",
        "print(tokens)\n",
        "\n",
        "#quiz 2\n",
        "from nltk.corpus import stopwords\n",
        "# Download the stopwords list\n",
        "nltk.download('stopwords')\n",
        "# Get English stopwords\n",
        "stop_words = set(stopwords.words('english')) #Wrapping it with set() makes lookup faster when filtering tokens\n",
        "# Filter out stopwords\n",
        "filtered_tokens = [word for word in tokens if word not in stop_words]\n",
        "print(\"Filtered Tokens:\", filtered_tokens)\n",
        "\n",
        "\n",
        "#quiz 3\n",
        "from nltk.stem import PorterStemmer\n",
        "stemmer = PorterStemmer()\n",
        "# Assuming filtered_tokens is your list of tokens after stopword removal\n",
        "stemmed_tokens = [stemmer.stem(word) for word in filtered_tokens]\n",
        "print(stemmed_tokens)\n",
        "\n",
        "#quiz 4\n",
        "import nltk\n",
        "from nltk.stem import WordNetLemmatizer\n",
        "# Download required data\n",
        "nltk.download('wordnet')\n",
        "lemmatizer = WordNetLemmatizer()\n",
        "# Assuming filtered_tokens is your list of tokens after stopword removal\n",
        "lemmatized_tokens = [lemmatizer.lemmatize(word, pos='v') for word in filtered_tokens]\n",
        "print(lemmatized_tokens)\n",
        "\n",
        "\n",
        "\n",
        "\n",
        "\n",
        "\n"
      ]
    }
  ]
}